{
 "cells": [
  {
   "cell_type": "markdown",
   "metadata": {},
   "source": [
    "# Mr./ Trump/ Said \n",
    "## The analysis of trending words in the last week of February\n",
    "##  Yuren Zhang, Zhihan Zhu \n",
    "### 1. Why Do We Care?\n",
    "Trending words are good indicators of the current status. Higher word frequencies are positively correlated to more coverage and exposure. In other words, more people are talking or searching about this term. Also, trending words in a period of time efficiently described heat topics and important news during that period. \n",
    "To find out what are the **current trending**  words (in the last week of February), my partner and I looked at two mainstream media: The New York Times (NYT) in the U.S. and the Guardians in the U.K. Using two sources from different countries lead to smaller bias. In addition, comparison between sources are also made avaliable. We found that the trending words from the two media varies significantly.\n",
    "### 2.  Methods \n",
    "__1. For NYT:__\n",
    " NYT provides its API for public use. Thus, we utilize this advantage and acquired the links for most viewed articles from all sections. Most viewed articles represent what topics do the audiences cars most about. So they are good indicators of the current focusing points of NYT's audience as well as reporters. We choose not to download all articles within the month because of the limitation of non-commercial license as well as poor efficiency. \n",
    "The code we used for utilizing the API may or may not be useful to you:\n",
    "```python\n",
    " url=\"https://api.nytimes.com/svc/mostpopular/v2/mostviewed/all-sections/30/?api-key=YourKey\"\n",
    " response=requests.get(url)\n",
    " urllist=[response.json()[u'results'][i][u'url'] for i in range(len(response.json()[u'results']))]\n",
    "```\n",
    "Then, those links are used to access individual articles. The content of individual articles are acquired by web-scrapping. \n",
    "Again the code we used for web-scrapping as well as text stripping may or may not be useful to you:\n",
    "```python\n",
    "def getcontent(url):\n",
    "    \"\"\"\n",
    "    Extract the title, text, and author of an Aggie article\n",
    "    Input: url-> url for the article. \n",
    "    Output: a dictionary that contains the author, text, url and title.       \n",
    "    \"\"\"\n",
    "    artic= requests.get(url,\"lxml\")\n",
    "    soup_arti=BeautifulSoup(artic.text)\n",
    "    content=soup_arti.select(\"article[id='story'] > div[class='story-body-supplemental'] > div > p \")\n",
    "    if content==[]:\n",
    "        content=soup_arti.select(\"p[class='paragraph--story']\")\n",
    "    text=\" \".join([i.text.strip() for i in content])\n",
    "    return text\n",
    "```\n",
    "Text are stripped and analyzed after removing stopwords using the built-in function from Word Cloud. The result is presented in Word Cloud form.\n",
    "\n",
    "__The results:__\n",
    "<img width=400 src=\"https://github.com/zyrr95/Final-Project-Sta-141B/blob/master/nyt.png?raw=true\">\n",
    "\n",
    "The size of each word is correlated to its relative frequency in the whole text. The results showed that in the last week of February, Mr. Trump, the President clearly took the majority attention from NYT reporters and audiences. In addition, his opinions and statements are wildly reported as the word 'said' appears a lot.\n",
    "The U.S. is clearly focusing on Mr. Trump. However, across the Atlantic, people do not necessarily care about the same.\n"
   ]
  },
  {
   "cell_type": "markdown",
   "metadata": {},
   "source": [
    "__2. For the Guardian__\n",
    "\n",
    "The Guardian doesn't have a API method of most viewed articles that is similar to NYT, so we choose to obtained all the articles of the last week of Februrary. With similar skills of web-scrapping, text analysis, we get the following Word-Cloud:\n",
    "\n",
    "Since the API does not allow us to directly get the urls of articles. We first write a function to find urls:\n",
    "```python\n",
    "def url_perpage(page,pagesize='50',fromdate='2017-02-22',todate='2017-02-28',form='json',order='oldest',key='YourKey'):\n",
    "    url='https://content.guardianapis.com/search'\n",
    "    response=requests.get(url,params={'page':page,'page-size':pagesize,'from-date':fromdate,'to-date':todate,'format':form,'order-by':order,'api-key':key})\n",
    "    return [x['webUrl'] for x in response.json()['response']['results']]\n",
    "\n",
    "urllist=[]\n",
    "for page in range(1,37):\n",
    "    urllist=urllist+url_perpage(page)\n",
    "```\n",
    "\n",
    "then write another function to get the article content given an url:\n",
    "```python\n",
    "def getcontent_Guardian(url):\n",
    "    \"\"\"\n",
    "    Extract the title, text, and author of an Aggie article\n",
    "    Input: url-> url for the article. \n",
    "    Output: a dictionary that contains the author, text, url and title.       \n",
    "    \"\"\"\n",
    "    artic= requests.get(url)\n",
    "    soup=BeautifulSoup(artic.text)\n",
    "    try:\n",
    "        text=\" \".join([i.text.strip() for i in soup.find_all('div',itemprop='articleBody')[0].find_all('p')])\n",
    "        text=text.translate({ 0x2018:0x27, 0x2019:0x27, 0x201C:0x22, 0x201D:0x22, 0x2026:0x20 })\n",
    "    except (IndexError,TypeError):\n",
    "        text=''\n",
    "    return text\n",
    "```\n",
    "\n",
    "__The results:__\n",
    "\n",
    "<img width=400 src=\"https://github.com/zyrr95/Final-Project-Sta-141B/blob/master/guardian.png?raw=true\">\n",
    "\n",
    "Although we still can see Trump on that picture, it is not the most popular thing that British people care. From those words such as \"year\", \"new\" and \"time\", we can have a guess that the Guardian focuses on the future, the plan of the country since February was still the beginning of 2017.\n",
    "\n"
   ]
  },
  {
   "cell_type": "markdown",
   "metadata": {},
   "source": [
    "__3. similar articles__\n",
    "\n",
    "The two most similar articles from these two medias are __“I Ignored Trump News for a week. Here’s what I Learned”__ from NYT and __“At last, here are ‘White House’ tweets that offer hope”__ from the Guardian. The first one talks about the phenomenon that Trump is everywhere on social medias, which exactly reflects the Word-Cloud. The second one talks about an twitter account that purports to leak information of the president. So we can see that the intersection between the trends in this week was also President Trump."
   ]
  },
  {
   "cell_type": "markdown",
   "metadata": {},
   "source": [
    "### 3. Limitations"
   ]
  },
  {
   "cell_type": "markdown",
   "metadata": {},
   "source": [
    "We acknowledge that the analysis is a bit plain and thin; however, due to certain limitations, our project cannot go any further. Because of poor computer performance as well as API rate limitation for non-comericial license, we campare the most popular content from NYT with all the articles from the Guardian, which might be inappropriate. For the same reason, we only investigae on one week.\n",
    "Therefore, if we are authorized to pull information at a higher rate and get access to higher computational power (such as using Amazon Web Service), for the next step we want to comparing the contents from the two medias of a whole month (with almost 10,000 articles each). \n",
    "This could \n",
    "<ol>\n",
    "<li>increasing accuracy.</li>\n",
    "<li>potentially implementing an analysis of word frequency change against time.</li>\n",
    "<ol>"
   ]
  },
  {
   "cell_type": "markdown",
   "metadata": {},
   "source": [
    "We believe with the relatively larger dataset and avaliable time data my partner and I would find more attributes to analyze and better content to present. "
   ]
  },
  {
   "cell_type": "markdown",
   "metadata": {
    "collapsed": true
   },
   "source": [
    "### Appendix \n",
    "we are happy to provide our code for your convience. Here is the link: https://github.com/zyrr95/Final-Project-Sta-141B/blob/master/finalproject.ipynb"
   ]
  }
 ],
 "metadata": {
  "anaconda-cloud": {},
  "kernelspec": {
   "display_name": "Python [conda root]",
   "language": "python",
   "name": "conda-root-py"
  },
  "language_info": {
   "codemirror_mode": {
    "name": "ipython",
    "version": 2
   },
   "file_extension": ".py",
   "mimetype": "text/x-python",
   "name": "python",
   "nbconvert_exporter": "python",
   "pygments_lexer": "ipython2",
   "version": "2.7.12"
  }
 },
 "nbformat": 4,
 "nbformat_minor": 1
}
