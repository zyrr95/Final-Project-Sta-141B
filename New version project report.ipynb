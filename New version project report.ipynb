{
 "cells": [
  {
   "cell_type": "markdown",
   "metadata": {},
   "source": [
    "# Mr./ Trump/ Said \n",
    "## The analysis of trending words in the last week of February\n",
    "##  Yuren Zhang, Zhihan Zhu \n",
    "#### 1. Why Do We Care?\n",
    "Trending words are good indicators of the current status. Higher word frequencies are positively correlated to more coverage and exposure. In other words, more people are talking or searching about this term. Also, trending words in a period of time efficiently described heat topics and important news during that period. \n",
    "To find out what are the **current trending**  words (in the last week of February), my partner and I looked at two mainstream media: The New York Times (NYT) in the U.S. and the Guardians in the U.K. Using two sources from different countries lead to smaller bias. In addition, comparison between sources are also made avaliable. We found that the trending words from the two media varies significantly.\n",
    "#### 2.  Methods \n",
    "#####\t1. For NYT:\n",
    " NYT provides its API for public use. Thus, we utilize this advantage and acquired the links for most viewed articles from all sections. Most viewed articles represent what topics do the audiences cars most about. So they are good indicators of the current focusing points of NYT's audience as well as reporters. We choose not to download all articles within the month because of the limitation of non-commercial license as well as poor efficiency. \n",
    "The code we used for utilizing the API may or may not be useful to you:\n",
    "```python\n",
    " url=\"https://api.nytimes.com/svc/mostpopular/v2/mostviewed/all-sections/30/?api-key=YourKey\"\n",
    " response=requests.get(url)\n",
    " urllist=[response.json()[u'results'][i][u'url'] for i in range(len(response.json()[u'results']))]\n",
    "```\n",
    "Then, those links are used to access individual articles. The content of individual articles are acquired by web-scrapping. \n",
    "Again the code we used for web-scrapping as well as text stripping may or may not be useful to you:\n",
    "```python\n",
    "def getcontent(url):\n",
    "    \"\"\"\n",
    "    Extract the title, text, and author of an Aggie article\n",
    "    Input: url-> url for the article. \n",
    "    Output: a dictionary that contains the author, text, url and title.       \n",
    "    \"\"\"\n",
    "    artic= requests.get(url,\"lxml\")\n",
    "    soup_arti=BeautifulSoup(artic.text)\n",
    "    content=soup_arti.select(\"article[id='story'] > div[class='story-body-supplemental'] > div > p \")\n",
    "    if content==[]:\n",
    "        content=soup_arti.select(\"p[class='paragraph--story']\")\n",
    "    text=\" \".join([i.text.strip() for i in content])\n",
    "    return text\n",
    "```\n",
    "Text are stripped and analyzed after removing stopwords using the built-in function from Word Cloud. The result is presented in Word Cloud form.\n",
    "###### The results:\n",
    "< img width=400 src="https://github.com/zyrr95/Final-Project-Sta-141B/blob/master/image.png?raw=true"> <br>\n",
    "\n",
    "The size of each word is correlated to its relative frequency in the whole text. The results showed that in the last week of February, Mr. Trump, the President clearly took the majority attention from NYT reporters and audiences. In addition, his opinions and statements are wildly reported as the word 'said' appears a lot.\n",
    "The U.S. is clearly focusing on Mr. Trump. However, across the Atlantic, people do not necessarily care about the same.\n"
   ]
  },
  {
   "cell_type": "markdown",
   "metadata": {
    "collapsed": true
   },
   "source": []
  },
  {
   "cell_type": "code",
   "execution_count": null,
   "metadata": {
    "collapsed": true
   },
   "outputs": [],
   "source": []
  }
 ],
 "metadata": {
  "anaconda-cloud": {},
  "kernelspec": {
   "display_name": "Python [conda root]",
   "language": "python",
   "name": "conda-root-py"
  },
  "language_info": {
   "codemirror_mode": {
    "name": "ipython",
    "version": 2
   },
   "file_extension": ".py",
   "mimetype": "text/x-python",
   "name": "python",
   "nbconvert_exporter": "python",
   "pygments_lexer": "ipython2",
   "version": "2.7.12"
  }
 },
 "nbformat": 4,
 "nbformat_minor": 1
}
