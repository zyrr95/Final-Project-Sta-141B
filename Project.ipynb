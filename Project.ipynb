{
 "cells": [
  {
   "cell_type": "code",
   "execution_count": 30,
   "metadata": {
    "collapsed": true
   },
   "outputs": [],
   "source": [
    "from urllib2 import Request, urlopen, HTTPError\n",
    "from urlparse import urlunparse, urlparse\n",
    "import json \n",
    "import pandas as pd\n",
    "import requests\n",
    "import requests_cache\n",
    "from bs4 import BeautifulSoup"
   ]
  },
  {
   "cell_type": "code",
   "execution_count": 2,
   "metadata": {
    "collapsed": true
   },
   "outputs": [],
   "source": [
    "requests_cache.install_cache(\"project141\")"
   ]
  },
  {
   "cell_type": "code",
   "execution_count": 8,
   "metadata": {
    "collapsed": true
   },
   "outputs": [],
   "source": [
    "url=\"https://api.nytimes.com/svc/mostpopular/v2/mostviewed/all-sections/7/?api-key=e273ed2eb9f24e549143f627cc6ba4b1\""
   ]
  },
  {
   "cell_type": "code",
   "execution_count": 11,
   "metadata": {
    "collapsed": false,
    "scrolled": true
   },
   "outputs": [],
   "source": [
    "response=requests.get(url)"
   ]
  },
  {
   "cell_type": "code",
   "execution_count": 29,
   "metadata": {
    "collapsed": false
   },
   "outputs": [],
   "source": [
    "urllist=[response.json()[u'results'][i][u'url'] for i in range(len(response.json()[u'results']))]"
   ]
  },
  {
   "cell_type": "code",
   "execution_count": 52,
   "metadata": {
    "collapsed": false
   },
   "outputs": [
    {
     "data": {
      "text/plain": [
       "[u'http://www.nytimes.com/2017/02/24/us/politics/white-house-sean-spicer-briefing.html',\n",
       " u'http://www.nytimes.com/2017/02/19/world/europe/last-night-in-sweden-trumps-remark-baffles-a-nation.html',\n",
       " u'http://www.nytimes.com/2017/02/22/us/politics/devos-sessions-transgender-students-rights.html',\n",
       " u'http://www.nytimes.com/2017/02/21/us/politics/dhs-immigration-trump.html',\n",
       " u'http://www.nytimes.com/2017/02/22/science/trappist-1-exoplanets-nasa.html',\n",
       " u'http://www.nytimes.com/2017/02/19/us/politics/donald-trump-ukraine-russia.html',\n",
       " u'http://www.nytimes.com/2017/02/22/technology/trump-news-media-ignore.html',\n",
       " u'http://www.nytimes.com/2017/02/20/us/politics/cpac-milo-yiannopoulos.html',\n",
       " u'http://www.nytimes.com/2017/02/22/arts/television/bill-maher-milo-yiannopoulos-interview.html',\n",
       " u'http://www.nytimes.com/2017/02/20/world/europe/trump-pursues-his-attack-on-sweden-with-scant-evidence.html',\n",
       " u'http://www.nytimes.com/2017/02/23/upshot/dismal-results-from-vouchers-surprise-researchers-as-devos-era-begins.html',\n",
       " u'http://www.nytimes.com/2017/02/24/world/asia/kansas-attack-possible-hate-crime-srinivas-kuchibhotla.html',\n",
       " u'http://www.nytimes.com/2017/02/18/opinion/sunday/are-liberals-helping-trump.html',\n",
       " u'http://www.nytimes.com/2017/02/20/us/politics/mcmaster-national-security-adviser-trump.html',\n",
       " u'http://www.nytimes.com/2017/02/13/insider/why-do-americans-refrigerate-their-eggs.html',\n",
       " u'http://www.nytimes.com/2017/02/21/arts/design/andy-warhols-death-not-so-routine-after-all.html',\n",
       " u'http://www.nytimes.com/2017/02/17/opinion/the-downfall-of-kellyanne-conway.html',\n",
       " u'http://www.nytimes.com/2017/02/23/us/democrats-dnc-chairman-trump-keith-ellison-tom-perez.html',\n",
       " u'http://www.nytimes.com/2017/02/20/theater/hillary-clinton-broadway-shows.html',\n",
       " u'http://www.nytimes.com/2017/02/22/science/lake-berryessa-spillway-california-glory.html']"
      ]
     },
     "execution_count": 52,
     "metadata": {},
     "output_type": "execute_result"
    }
   ],
   "source": [
    "urllist"
   ]
  },
  {
   "cell_type": "code",
   "execution_count": 49,
   "metadata": {
    "collapsed": false
   },
   "outputs": [],
   "source": [
    "def getcontent(url):\n",
    "    \"\"\"\n",
    "    Extract the title, text, and author of an Aggie article\n",
    "    Input: url-> url for the article. \n",
    "    Output: a dictionary that contains the author, text, url and title.       \n",
    "    \"\"\"\n",
    "    artic= requests.get(url,\"lxml\")\n",
    "    soup_arti=BeautifulSoup(artic.text)\n",
    "    content=soup_arti.select(\"article[id='story'] > div[class='story-body-supplemental'] > div > p \")\n",
    "    text=\" \".join([i.text.strip() for i in content])\n",
    "    return text"
   ]
  },
  {
   "cell_type": "code",
   "execution_count": 54,
   "metadata": {
    "collapsed": false
   },
   "outputs": [],
   "source": [
    "dfcontent= pd.DataFrame([getcontent(i) for i in urllist])"
   ]
  },
  {
   "cell_type": "code",
   "execution_count": 55,
   "metadata": {
    "collapsed": false
   },
   "outputs": [
    {
     "data": {
      "text/html": [
       "<div>\n",
       "<table border=\"1\" class=\"dataframe\">\n",
       "  <thead>\n",
       "    <tr style=\"text-align: right;\">\n",
       "      <th></th>\n",
       "      <th>0</th>\n",
       "    </tr>\n",
       "  </thead>\n",
       "  <tbody>\n",
       "    <tr>\n",
       "      <th>0</th>\n",
       "      <td>WASHINGTON — President Trump turned the power ...</td>\n",
       "    </tr>\n",
       "    <tr>\n",
       "      <th>1</th>\n",
       "      <td>WASHINGTON — President Trump turned the power ...</td>\n",
       "    </tr>\n",
       "    <tr>\n",
       "      <th>2</th>\n",
       "      <td>WASHINGTON — President Trump turned the power ...</td>\n",
       "    </tr>\n",
       "    <tr>\n",
       "      <th>3</th>\n",
       "      <td>WASHINGTON — President Trump turned the power ...</td>\n",
       "    </tr>\n",
       "    <tr>\n",
       "      <th>4</th>\n",
       "      <td>WASHINGTON — President Trump turned the power ...</td>\n",
       "    </tr>\n",
       "    <tr>\n",
       "      <th>5</th>\n",
       "      <td>WASHINGTON — President Trump turned the power ...</td>\n",
       "    </tr>\n",
       "    <tr>\n",
       "      <th>6</th>\n",
       "      <td>WASHINGTON — President Trump turned the power ...</td>\n",
       "    </tr>\n",
       "    <tr>\n",
       "      <th>7</th>\n",
       "      <td>WASHINGTON — President Trump turned the power ...</td>\n",
       "    </tr>\n",
       "    <tr>\n",
       "      <th>8</th>\n",
       "      <td>WASHINGTON — President Trump turned the power ...</td>\n",
       "    </tr>\n",
       "    <tr>\n",
       "      <th>9</th>\n",
       "      <td>WASHINGTON — President Trump turned the power ...</td>\n",
       "    </tr>\n",
       "    <tr>\n",
       "      <th>10</th>\n",
       "      <td>WASHINGTON — President Trump turned the power ...</td>\n",
       "    </tr>\n",
       "    <tr>\n",
       "      <th>11</th>\n",
       "      <td>WASHINGTON — President Trump turned the power ...</td>\n",
       "    </tr>\n",
       "    <tr>\n",
       "      <th>12</th>\n",
       "      <td>WASHINGTON — President Trump turned the power ...</td>\n",
       "    </tr>\n",
       "    <tr>\n",
       "      <th>13</th>\n",
       "      <td>WASHINGTON — President Trump turned the power ...</td>\n",
       "    </tr>\n",
       "    <tr>\n",
       "      <th>14</th>\n",
       "      <td>WASHINGTON — President Trump turned the power ...</td>\n",
       "    </tr>\n",
       "    <tr>\n",
       "      <th>15</th>\n",
       "      <td>WASHINGTON — President Trump turned the power ...</td>\n",
       "    </tr>\n",
       "    <tr>\n",
       "      <th>16</th>\n",
       "      <td>WASHINGTON — President Trump turned the power ...</td>\n",
       "    </tr>\n",
       "    <tr>\n",
       "      <th>17</th>\n",
       "      <td>WASHINGTON — President Trump turned the power ...</td>\n",
       "    </tr>\n",
       "    <tr>\n",
       "      <th>18</th>\n",
       "      <td>WASHINGTON — President Trump turned the power ...</td>\n",
       "    </tr>\n",
       "    <tr>\n",
       "      <th>19</th>\n",
       "      <td>WASHINGTON — President Trump turned the power ...</td>\n",
       "    </tr>\n",
       "  </tbody>\n",
       "</table>\n",
       "</div>"
      ],
      "text/plain": [
       "                                                    0\n",
       "0   WASHINGTON — President Trump turned the power ...\n",
       "1   WASHINGTON — President Trump turned the power ...\n",
       "2   WASHINGTON — President Trump turned the power ...\n",
       "3   WASHINGTON — President Trump turned the power ...\n",
       "4   WASHINGTON — President Trump turned the power ...\n",
       "5   WASHINGTON — President Trump turned the power ...\n",
       "6   WASHINGTON — President Trump turned the power ...\n",
       "7   WASHINGTON — President Trump turned the power ...\n",
       "8   WASHINGTON — President Trump turned the power ...\n",
       "9   WASHINGTON — President Trump turned the power ...\n",
       "10  WASHINGTON — President Trump turned the power ...\n",
       "11  WASHINGTON — President Trump turned the power ...\n",
       "12  WASHINGTON — President Trump turned the power ...\n",
       "13  WASHINGTON — President Trump turned the power ...\n",
       "14  WASHINGTON — President Trump turned the power ...\n",
       "15  WASHINGTON — President Trump turned the power ...\n",
       "16  WASHINGTON — President Trump turned the power ...\n",
       "17  WASHINGTON — President Trump turned the power ...\n",
       "18  WASHINGTON — President Trump turned the power ...\n",
       "19  WASHINGTON — President Trump turned the power ..."
      ]
     },
     "execution_count": 55,
     "metadata": {},
     "output_type": "execute_result"
    }
   ],
   "source": [
    "dfcontent"
   ]
  },
  {
   "cell_type": "code",
   "execution_count": null,
   "metadata": {
    "collapsed": true
   },
   "outputs": [],
   "source": []
  }
 ],
 "metadata": {
  "anaconda-cloud": {},
  "kernelspec": {
   "display_name": "Python [conda root]",
   "language": "python",
   "name": "conda-root-py"
  },
  "language_info": {
   "codemirror_mode": {
    "name": "ipython",
    "version": 2
   },
   "file_extension": ".py",
   "mimetype": "text/x-python",
   "name": "python",
   "nbconvert_exporter": "python",
   "pygments_lexer": "ipython2",
   "version": "2.7.12"
  }
 },
 "nbformat": 4,
 "nbformat_minor": 1
}
